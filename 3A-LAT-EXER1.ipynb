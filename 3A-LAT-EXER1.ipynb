{
  "nbformat": 4,
  "nbformat_minor": 0,
  "metadata": {
    "colab": {
      "provenance": [],
      "authorship_tag": "ABX9TyMziZ9vKWyWLmNhNmNJ+qr2",
      "include_colab_link": true
    },
    "kernelspec": {
      "name": "python3",
      "display_name": "Python 3"
    },
    "language_info": {
      "name": "python"
    }
  },
  "cells": [
    {
      "cell_type": "markdown",
      "metadata": {
        "id": "view-in-github",
        "colab_type": "text"
      },
      "source": [
        "<a href=\"https://colab.research.google.com/github/Betinsss/CSST102-3A/blob/main/3A-LAT-EXER1.ipynb\" target=\"_parent\"><img src=\"https://colab.research.google.com/assets/colab-badge.svg\" alt=\"Open In Colab\"/></a>"
      ]
    },
    {
      "cell_type": "markdown",
      "source": [
        "Importing\n"
      ],
      "metadata": {
        "id": "x3g9jicNDo9a"
      }
    },
    {
      "cell_type": "code",
      "execution_count": null,
      "metadata": {
        "id": "kmIUDtDh6gRh"
      },
      "outputs": [],
      "source": [
        "import pandas as pd\n",
        "import numpy as np\n",
        "import matplotlib.pyplot as plt\n",
        "from sklearn.preprocessing import StandardScaler\n",
        "from sklearn.model_selection import train_test_split"
      ]
    },
    {
      "cell_type": "markdown",
      "source": [
        "Data Preprocessing"
      ],
      "metadata": {
        "id": "MuTjw7PRDsyx"
      }
    },
    {
      "cell_type": "code",
      "source": [
        "data = pd.read_csv('datasets_house_prices.csv')"
      ],
      "metadata": {
        "id": "Dh7X4Kcf7pAf"
      },
      "execution_count": null,
      "outputs": []
    },
    {
      "cell_type": "markdown",
      "source": [
        "1. Checking for Missing Values"
      ],
      "metadata": {
        "id": "0rMH_ar3Dv35"
      }
    },
    {
      "cell_type": "code",
      "source": [
        "print(data.isnull().sum())\n"
      ],
      "metadata": {
        "colab": {
          "base_uri": "https://localhost:8080/"
        },
        "id": "NNBCIMM17qk2",
        "outputId": "7dbaae78-f33c-4080-bf6b-d41719764e10"
      },
      "execution_count": null,
      "outputs": [
        {
          "output_type": "stream",
          "name": "stdout",
          "text": [
            "Size (sqft)                      0\n",
            "Bedrooms                         0\n",
            "Age                              0\n",
            "Proximity to Downtown (miles)    0\n",
            "Price                            0\n",
            "dtype: int64\n"
          ]
        }
      ]
    },
    {
      "cell_type": "markdown",
      "source": [
        "2. Normalizing the Features"
      ],
      "metadata": {
        "id": "U7p47XDrD0PR"
      }
    },
    {
      "cell_type": "code",
      "source": [
        "scaler = StandardScaler()\n",
        "X = scaler.fit_transform(data[['Size (sqft)', 'Bedrooms', 'Age']])\n",
        "y = data['Price']"
      ],
      "metadata": {
        "id": "YL9Up7yI77TG"
      },
      "execution_count": null,
      "outputs": []
    },
    {
      "cell_type": "markdown",
      "source": [
        "Model Implementation"
      ],
      "metadata": {
        "id": "OsgMfzI0D4Rw"
      }
    },
    {
      "cell_type": "markdown",
      "source": [
        "1. Implementing Linear Regression"
      ],
      "metadata": {
        "id": "yUoWLxajD8Ig"
      }
    },
    {
      "cell_type": "code",
      "source": [
        "def linear_regression(X, y):\n",
        "    X = np.c_[np.ones(len(X)), X]  # Add bias term\n",
        "    theta = np.linalg.pinv(X.T @ X) @ X.T @ y  # Calculate model parameters\n",
        "    return theta[0], theta[1:]\n",
        "\n",
        "def predict(X, theta0, theta):\n",
        "    return theta0 + X @ theta  # Predict house prices"
      ],
      "metadata": {
        "id": "k6MGDobfDUoh"
      },
      "execution_count": null,
      "outputs": []
    },
    {
      "cell_type": "markdown",
      "source": [
        "Model Training"
      ],
      "metadata": {
        "id": "naDJT1fAEAPQ"
      }
    },
    {
      "cell_type": "markdown",
      "source": [
        "1. Splitting the Dataset"
      ],
      "metadata": {
        "id": "H_cx0ZDKEb2I"
      }
    },
    {
      "cell_type": "code",
      "source": [
        "X_train, X_test, y_train, y_test = train_test_split(X, y, test_size=0.2, random_state=42)"
      ],
      "metadata": {
        "id": "NF93WvlRDWiY"
      },
      "execution_count": null,
      "outputs": []
    },
    {
      "cell_type": "markdown",
      "source": [
        "2. Training the Model"
      ],
      "metadata": {
        "id": "qP95rvZ2Efro"
      }
    },
    {
      "cell_type": "code",
      "source": [
        "theta0, theta = linear_regression(X_train, y_train)"
      ],
      "metadata": {
        "id": "r0V4cG5cDZw5"
      },
      "execution_count": null,
      "outputs": []
    },
    {
      "cell_type": "markdown",
      "source": [
        "3. Calculating Mean Squared Error (MSE)"
      ],
      "metadata": {
        "id": "IwXKiF73Ekug"
      }
    },
    {
      "cell_type": "code",
      "source": [
        "y_train_pred = predict(X_train, theta0, theta)\n",
        "mse_train = np.mean((y_train - y_train_pred) ** 2)\n",
        "print(f'Training MSE: {mse_train:.2f}')"
      ],
      "metadata": {
        "colab": {
          "base_uri": "https://localhost:8080/"
        },
        "id": "h3NeROFlDb5R",
        "outputId": "649e6946-2275-4493-ac99-68ee4028fd42"
      },
      "execution_count": null,
      "outputs": [
        {
          "output_type": "stream",
          "name": "stdout",
          "text": [
            "Training MSE: 170277648.52\n"
          ]
        }
      ]
    },
    {
      "cell_type": "markdown",
      "source": [
        "Model Evaluation"
      ],
      "metadata": {
        "id": "N87_N-g3EmeY"
      }
    },
    {
      "cell_type": "markdown",
      "source": [
        "1. Testing the Model"
      ],
      "metadata": {
        "id": "wjF9myD8En7o"
      }
    },
    {
      "cell_type": "code",
      "source": [
        "y_test_pred = predict(X_test, theta0, theta)\n",
        "mse_test = np.mean((y_test - y_test_pred) ** 2)\n",
        "print(f'Testing MSE: {mse_test:.2f}')"
      ],
      "metadata": {
        "colab": {
          "base_uri": "https://localhost:8080/"
        },
        "id": "Cp7rMZG7DeFx",
        "outputId": "c4a4ce30-201e-4e9d-a202-61a7d387f895"
      },
      "execution_count": null,
      "outputs": [
        {
          "output_type": "stream",
          "name": "stdout",
          "text": [
            "Testing MSE: 167882080.37\n"
          ]
        }
      ]
    },
    {
      "cell_type": "markdown",
      "source": [
        "2. Visualizing the Results"
      ],
      "metadata": {
        "id": "HaJ1puXmEuRQ"
      }
    },
    {
      "cell_type": "code",
      "source": [
        "plt.figure(figsize=(8, 6))\n",
        "plt.hist([y_test, y_test_pred], bins=20, color=['purple', 'yellow'], label=['Actual', 'Predicted'])\n",
        "plt.xlabel('Price')\n",
        "plt.ylabel('Count')\n",
        "plt.title('Linear Regression')\n",
        "plt.legend()\n",
        "plt.show()"
      ],
      "metadata": {
        "colab": {
          "base_uri": "https://localhost:8080/",
          "height": 564
        },
        "id": "oRWkMe3FDf5h",
        "outputId": "64700310-3223-44e0-a0a3-198e5df6e610"
      },
      "execution_count": null,
      "outputs": [
        {
          "output_type": "display_data",
          "data": {
            "text/plain": [
              "<Figure size 800x600 with 1 Axes>"
            ],
            "image/png": "[encoded data removed]"
          },
          "metadata": {}
        }
      ]
    },
    {
      "cell_type": "markdown",
      "source": [
        "Report Summary\n"
      ],
      "metadata": {
        "id": "2CTDwYvmEy_Q"
      }
    },
    {
      "cell_type": "code",
      "source": [
        "report = \"\"\"\n",
        "In this project, we built a basic linear regression model from scratch using Python to predict house prices based on features such as house size, number of bedrooms, and age.\n",
        "We started by loading the dataset into a Pandas DataFrame, where we handled any missing data appropriately. To ensure consistency across all features, we applied normalization\n",
        "using scikit-learn's `StandardScaler`.\n",
        "\n",
        "Instead of relying on pre-built libraries like scikit-learn for the linear regression model, we calculated the model parameters—the slope and intercept—using the least squares\n",
        "method. A custom function was then created to predict house prices based on these features.\n",
        "\n",
        "We split the dataset into training and testing sets, training the model on the training data. The model's performance was evaluated using Mean Squared Error (MSE) on both the\n",
        "training and testing sets. Finally, to visualize the results, we plotted the regression line along with the actual test data points to assess how well the model fit the data.\n",
        "   \"\"\"\n",
        "print(report)"
      ],
      "metadata": {
        "colab": {
          "base_uri": "https://localhost:8080/"
        },
        "id": "23pPwGiYDi1x",
        "outputId": "b2e81edb-a7a1-4595-c5fc-221d8d4e24b1"
      },
      "execution_count": null,
      "outputs": [
        {
          "output_type": "stream",
          "name": "stdout",
          "text": [
            "\n",
            "In this project, we built a basic linear regression model from scratch using Python to predict house prices based on features such as house size, number of bedrooms, and age.\n",
            "We started by loading the dataset into a Pandas DataFrame, where we handled any missing data appropriately. To ensure consistency across all features, we applied normalization \n",
            "using scikit-learn's `StandardScaler`.\n",
            "\n",
            "Instead of relying on pre-built libraries like scikit-learn for the linear regression model, we calculated the model parameters—the slope and intercept—using the least squares \n",
            "method. A custom function was then created to predict house prices based on these features.\n",
            "\n",
            "We split the dataset into training and testing sets, training the model on the training data. The model's performance was evaluated using Mean Squared Error (MSE) on both the \n",
            "training and testing sets. Finally, to visualize the results, we plotted the regression line along with the actual test data points to assess how well the model fit the data.\n",
            "   \n"
          ]
        }
      ]
    },
    {
      "cell_type": "markdown",
      "source": [
        "# Report: Predicting House Prices with Linear Regression\n",
        "\n",
        "## Introduction\n",
        "\n",
        "In this project, I worked on building a linear regression model to predict house prices based on different features like size, number of bedrooms, and the age of the house. The goal was to understand how these features affect house prices and evaluate the performance of the model in predicting prices.\n",
        "\n",
        "---\n",
        "\n",
        "## 1. Data Preprocessing\n",
        "\n",
        "### Checking for Missing Data\n",
        "\n",
        "The first step was to check if the dataset had any missing values, as these could affect the model. I used the `isnull().sum()` function, and fortunately, there were no missing values. This made it easier to proceed without needing to fill or remove missing data.\n",
        "\n",
        "### Scaling the Data\n",
        "\n",
        "Since the features in the dataset (size, bedrooms, and age) have different units and ranges, I needed to standardize them. I used the `StandardScaler` from Scikit-Learn, which scales each feature so they have a mean of 0 and a standard deviation of 1. This step is important for linear regression because it ensures that all features are treated equally by the model.\n",
        "\n",
        "```python\n",
        "scaler = StandardScaler()\n",
        "X = scaler.fit_transform(data[['Size (sqft)', 'Bedrooms', 'Age']])\n",
        "```\n",
        "\n",
        "---\n",
        "\n",
        "## 2. Implementing the Linear Regression Model\n",
        "\n",
        "### Model Equation\n",
        "\n",
        "Linear regression is a simple model that predicts the target (house price) based on a weighted sum of the input features (size, bedrooms, and age). The equation looks like this:\n",
        "\n",
        "\\[\n",
        "y = \\theta_0 + \\theta_1 \\cdot X_1 + \\theta_2 \\cdot X_2 + \\theta_3 \\cdot X_3\n",
        "\\]\n",
        "\n",
        "Where:\n",
        "- \\(y\\) is the predicted price.\n",
        "- \\(\\theta_0\\) is the bias (intercept).\n",
        "- \\(\\theta_1, \\theta_2, \\theta_3\\) are the coefficients (weights) for the features.\n",
        "- \\(X_1, X_2, X_3\\) are the feature values.\n",
        "\n",
        "I calculated the model's parameters (thetas) using the **normal equation** method, which finds the best fit for the data without using iterative methods like gradient descent.\n",
        "\n",
        "---\n",
        "\n",
        "## 3. Model Training and Testing\n",
        "\n",
        "### Splitting the Data\n",
        "\n",
        "I split the data into a training set (80% of the data) and a test set (20%) using the `train_test_split` function. The model was trained on the training data and tested on the unseen test data.\n",
        "\n",
        "```python\n",
        "X_train, X_test, y_train, y_test = train_test_split(X, y, test_size=0.2, random_state=42)\n",
        "```\n",
        "\n",
        "### Training the Model\n",
        "\n",
        "The linear regression model was trained on the training data using the normal equation. This gave me the optimal values for \\(\\theta_0, \\theta_1, \\theta_2, \\theta_3\\).\n",
        "\n",
        "```python\n",
        "theta0, theta = linear_regression(X_train, y_train)\n",
        "```\n",
        "\n",
        "### Evaluating the Model\n",
        "\n",
        "To check how well the model performs, I calculated the **Mean Squared Error (MSE)** on both the training and test sets. MSE measures the average squared difference between the actual and predicted prices. A lower MSE indicates better performance.\n",
        "\n",
        "- **Training MSE**: 170277648.52\n",
        "- **Testing MSE**: 167882080.37\n",
        "\n",
        "The training and test MSE values are fairly close, which shows that the model isn't overfitting the data (i.e., it's not memorizing the training data but generalizing well to new data).\n",
        "\n",
        "---\n",
        "\n",
        "## 4. Conclusion\n",
        "\n",
        "### Model Performance\n",
        "\n",
        "The linear regression model performed reasonably well with training and test MSEs that were close in value. This suggests that the model generalizes well to new, unseen data. However, the model's predictions were not perfect, as there was still a gap between actual and predicted prices.\n",
        "\n",
        "### Challenges\n",
        "\n",
        "One of the main challenges I faced was scaling the features correctly. Since features like `Size (sqft)` and `Age` have different units, using them directly in the model would give more importance to larger values (like size), which would distort the predictions. Scaling solved this issue.\n",
        "\n",
        "### Next Steps\n",
        "\n",
        "1. **Add More Features**: The current model only uses three features (size, bedrooms, age). Including more features like location, number of bathrooms, or neighborhood quality could improve predictions.\n",
        "2. **Use More Complex Models**: Linear regression is a simple model. Trying more complex models like decision trees or random forests could improve accuracy.\n",
        "3. **Regularization**: Techniques like Lasso or Ridge regression could help reduce overfitting and improve model performance by adding a penalty for large coefficients.\n",
        "\n",
        "---\n",
        "\n",
        "This project helped me understand how linear regression works and how important data preprocessing is for building effective models. While the results were decent, there is definitely room for improvement by adding more features and experimenting with different models."
      ],
      "metadata": {
        "id": "kMmocveWzxZT"
      }
    }
  ]
}